{
 "cells": [
  {
   "cell_type": "code",
   "execution_count": 1,
   "id": "f504227a-8efe-462a-b38f-bde1fc58f253",
   "metadata": {},
   "outputs": [],
   "source": [
    "# Creating a set using curly braces\n",
    "my_set = {1, 2, 3, 4, 5}\n",
    "\n",
    "# Creating a set using the set() constructor\n",
    "another_set = set([1, 2, 3, 4, 5])"
   ]
  },
  {
   "cell_type": "code",
   "execution_count": 2,
   "id": "6ef703ec-9fd4-49db-801c-05c187d8662d",
   "metadata": {},
   "outputs": [],
   "source": [
    "my_set = {1, 2, 3, 4, 5}"
   ]
  },
  {
   "cell_type": "code",
   "execution_count": 3,
   "id": "996e62bd-39e3-4111-879d-d63aa83ef7d0",
   "metadata": {},
   "outputs": [],
   "source": [
    "my_set = {1, 2, 3}\n",
    "my_set.add(4)"
   ]
  },
  {
   "cell_type": "code",
   "execution_count": 4,
   "id": "1d4141a9-59c5-40e7-aace-127c8d02728e",
   "metadata": {},
   "outputs": [
    {
     "name": "stdout",
     "output_type": "stream",
     "text": [
      "{1, 2, 4}\n",
      "{1, 2, 4}\n"
     ]
    }
   ],
   "source": [
    "my_set = {1, 2, 3, 4}\n",
    "my_set.remove(3)\n",
    "print(my_set)  # Output: {1, 2, 4}\n",
    "\n",
    "my_set.discard(5)\n",
    "print(my_set)  # Output: {1, 2, 4}"
   ]
  },
  {
   "cell_type": "code",
   "execution_count": null,
   "id": "445f8a35-2be9-4d68-8f7e-7771e1cc8fc7",
   "metadata": {},
   "outputs": [],
   "source": []
  }
 ],
 "metadata": {
  "kernelspec": {
   "display_name": "Python 3 (ipykernel)",
   "language": "python",
   "name": "python3"
  },
  "language_info": {
   "codemirror_mode": {
    "name": "ipython",
    "version": 3
   },
   "file_extension": ".py",
   "mimetype": "text/x-python",
   "name": "python",
   "nbconvert_exporter": "python",
   "pygments_lexer": "ipython3",
   "version": "3.10.8"
  }
 },
 "nbformat": 4,
 "nbformat_minor": 5
}
